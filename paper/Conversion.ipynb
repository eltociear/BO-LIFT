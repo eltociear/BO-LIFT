{
 "cells": [
  {
   "cell_type": "code",
   "execution_count": null,
   "metadata": {},
   "outputs": [],
   "source": [
    "import bolift\n",
    "import numpy as np\n",
    "import matplotlib.pyplot as plt\n",
    "import json\n",
    "import pandas as pd\n",
    "from langchain.prompts.prompt import PromptTemplate\n",
    "\n",
    "\n",
    "data_path = \"paper/data/C2_yield_meth_oxy_short.csv\"\n",
    "np.random.seed(0)"
   ]
  },
  {
   "cell_type": "code",
   "execution_count": null,
   "metadata": {},
   "outputs": [],
   "source": [
    "raw_data = pd.read_csv(data_path)\n",
    "raw_data.head()"
   ]
  },
  {
   "cell_type": "code",
   "execution_count": null,
   "metadata": {},
   "outputs": [],
   "source": [
    "asktell = bolift.AskTellFewShotMulti(\n",
    "    x_formatter=lambda x: f'synthesis procedure:\"{x}\"',\n",
    "    y_name=\"C2 yield\",\n",
    "    y_formatter=lambda y: f\"{y:.2f}\",\n",
    "    model=\"text-curie-001\",\n",
    "    selector_k=8,\n",
    ")\n",
    "train = np.random.choice(raw_data.shape[0], 450, replace=False)\n",
    "test = np.setdiff1d(np.arange(raw_data.shape[0]), train)\n",
    "# shuffle test\n",
    "np.random.shuffle(test)\n",
    "print(len(train), len(test))"
   ]
  },
  {
   "cell_type": "code",
   "execution_count": null,
   "metadata": {},
   "outputs": [],
   "source": [
    "for i in train:\n",
    "    asktell.tell(raw_data.iloc[i, 0], float(raw_data.iloc[i, 1]))\n",
    "y = []\n",
    "yhat = []\n",
    "for j in test[:10]:\n",
    "    y.append(float(raw_data.iloc[j, 1]))\n",
    "    yhat.append(asktell.predict(raw_data.iloc[j, 0]))"
   ]
  },
  {
   "cell_type": "code",
   "execution_count": null,
   "metadata": {},
   "outputs": [],
   "source": [
    "# filter out failed\n",
    "y_filter = [yi for yi, yhi in zip(y, yhat) if len(yhi.values) > 0]\n",
    "yhat_filter = [yhi for yi, yhi in zip(y, yhat) if len(yhi.values) > 0]"
   ]
  },
  {
   "cell_type": "code",
   "execution_count": null,
   "metadata": {},
   "outputs": [],
   "source": [
    "modes = [yhat_filter[i].mode() for i in range(len(yhat_filter))]\n",
    "std = [yhat_filter[i].std() for i in range(len(yhat_filter))]\n",
    "plt.errorbar(y_filter, modes, yerr=std, fmt=\"o\")\n",
    "# let's add best fit line\n",
    "m, b = np.polyfit(y_filter, modes, 1)\n",
    "plt.plot(y_filter, m * np.array(y_filter) + b, color=\"gray\")\n",
    "# put R^2 on plot\n",
    "r2 = np.corrcoef(y_filter, modes)[0, 1] ** 2\n",
    "plt.text(0.1, 0.9, f\"$R^2$ = {r2:.2f}\", transform=plt.gca().transAxes)\n",
    "plt.title(\"Predicted vs. Actual C2 Yield\")\n",
    "plt.xlabel(\"Actual Yield\")\n",
    "plt.ylabel(\"Predicted Yield\")\n",
    "plt.show()"
   ]
  },
  {
   "cell_type": "code",
   "execution_count": null,
   "metadata": {},
   "outputs": [],
   "source": [
    "for yh, yi in zip(yhat, y):\n",
    "    print(yh, yi)"
   ]
  },
  {
   "cell_type": "code",
   "execution_count": null,
   "metadata": {},
   "outputs": [],
   "source": [
    "asktell = bolift.AskTellFewShotMulti(\n",
    "    x_formatter=lambda x: f'synthesis procedure:\"{x}\"',\n",
    "    y_name=\"C2 yield\",\n",
    "    y_formatter=lambda y: f\"{y:.2f}\",\n",
    "    model=\"text-curie-001\",\n",
    "    selector_k=8,\n",
    ")\n",
    "# tell it 1 example\n",
    "\n",
    "for i in train[:1]:\n",
    "    asktell.tell(raw_data.iloc[i, 0], float(raw_data.iloc[i, 1]))"
   ]
  },
  {
   "cell_type": "code",
   "execution_count": null,
   "metadata": {},
   "outputs": [],
   "source": [
    "N = 10\n",
    "aq = \"expected_improvement\"\n",
    "pool = bolift.Pool(list(raw_data.prompt[test]), asktell.format_x)\n",
    "point = []\n",
    "true_y = []\n",
    "for i in range(N):\n",
    "    if i == N - 1:\n",
    "        px, _, py = asktell.ask(pool, k=1, aq_fxn=\"greedy\", inv_filter=10)\n",
    "    else:\n",
    "        px, _, py = asktell.ask(pool, k=1, aq_fxn=aq, inv_filter=10)\n",
    "    xc = px[0]\n",
    "    # remove from pool\n",
    "    pool.choose(xc)\n",
    "    y = float(raw_data[raw_data[\"prompt\"] == xc][\"completion\"])\n",
    "    asktell.tell(xc, y)\n",
    "    point.append((xc, y))\n",
    "    print(y)"
   ]
  },
  {
   "cell_type": "code",
   "execution_count": null,
   "metadata": {},
   "outputs": [],
   "source": [
    "plt.axhline(\n",
    "    y=raw_data[\"completion\"][test].min(), color=\"C0\", linestyle=\"--\", label=\"min\"\n",
    ")\n",
    "plt.axhline(\n",
    "    y=raw_data[\"completion\"][test].mean(), color=\"C1\", linestyle=\"--\", label=\"mean\"\n",
    ")\n",
    "plt.axhline(\n",
    "    y=raw_data[\"completion\"][test].max(), color=\"C2\", linestyle=\"--\", label=\"max\"\n",
    ")\n",
    "# give 5% quantiles\n",
    "plt.axhline(\n",
    "    y=raw_data[\"completion\"][test].quantile(0.05),\n",
    "    color=\"C3\",\n",
    "    linestyle=\"--\",\n",
    "    label=\"5%\",\n",
    ")\n",
    "plt.axhline(\n",
    "    y=raw_data[\"completion\"][test].quantile(0.95),\n",
    "    color=\"C4\",\n",
    "    linestyle=\"--\",\n",
    "    label=\"95%\",\n",
    ")\n",
    "maxes = [max([y for x, y in point][:i]) for i in range(1, N + 1)]\n",
    "# plt.plot(range(10, N + 10), maxes)\n",
    "plt.plot(range(1, N + 1), [y for x, y in point])\n",
    "plt.title(f\"{aq} with {asktell._model}\")\n",
    "plt.legend()"
   ]
  },
  {
   "cell_type": "code",
   "execution_count": null,
   "metadata": {},
   "outputs": [],
   "source": []
  }
 ],
 "metadata": {
  "kernelspec": {
   "display_name": "Python 3 (ipykernel)",
   "language": "python",
   "name": "python3"
  },
  "language_info": {
   "codemirror_mode": {
    "name": "ipython",
    "version": 3
   },
   "file_extension": ".py",
   "mimetype": "text/x-python",
   "name": "python",
   "nbconvert_exporter": "python",
   "pygments_lexer": "ipython3",
   "version": "3.10.4"
  },
  "vscode": {
   "interpreter": {
    "hash": "3e5a039a7a113538395a7d74f5574b0c5900118222149a18efb009bf03645fce"
   }
  }
 },
 "nbformat": 4,
 "nbformat_minor": 2
}
