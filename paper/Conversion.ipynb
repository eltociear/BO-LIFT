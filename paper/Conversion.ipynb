{
 "cells": [
  {
   "cell_type": "code",
   "execution_count": null,
   "metadata": {},
   "outputs": [],
   "source": [
    "import bolift\n",
    "import numpy as np\n",
    "import matplotlib.pyplot as plt\n",
    "import json\n",
    "import pandas as pd\n",
    "from langchain.prompts.prompt import PromptTemplate\n",
    "\n",
    "\n",
    "data_path = \"paper/data/C2_yield_meth_oxy.csv\"\n",
    "np.random.seed(0)"
   ]
  },
  {
   "cell_type": "code",
   "execution_count": null,
   "metadata": {},
   "outputs": [],
   "source": [
    "raw_data = pd.read_csv(data_path)\n",
    "raw_data.head()"
   ]
  },
  {
   "cell_type": "code",
   "execution_count": null,
   "metadata": {},
   "outputs": [],
   "source": [
    "asktell = bolift.AskTellFewShotMulti(\n",
    "    x_formatter=lambda x: f\"synthesis procedure:\\n{x}\",\n",
    "    y_name=\"yield\",\n",
    "    y_formatter=lambda y: f\"{y:.2f}\",\n",
    "    model=\"text-davinci-003\",\n",
    "    selector_k=4,\n",
    ")"
   ]
  },
  {
   "cell_type": "code",
   "execution_count": null,
   "metadata": {},
   "outputs": [],
   "source": [
    "train = np.random.choice(raw_data.shape[0], 450, replace=False)\n",
    "test = np.setdiff1d(np.arange(raw_data.shape[0]), train)\n",
    "# shuffle test\n",
    "np.random.shuffle(test)\n",
    "for i in train:\n",
    "    asktell.tell(raw_data.iloc[i, 0], float(raw_data.iloc[i, 1]))\n",
    "y = []\n",
    "yhat = []\n",
    "for j in test[:10]:\n",
    "    y.append(float(raw_data.iloc[j, 1]))\n",
    "    yhat.append(asktell.predict(raw_data.iloc[j, 0]))"
   ]
  },
  {
   "cell_type": "code",
   "execution_count": null,
   "metadata": {},
   "outputs": [],
   "source": [
    "# filter out failed\n",
    "y_filter = [yi for yi, yhi in zip(y, yhat) if len(yhi.values) > 0]\n",
    "yhat_filter = [yhi for yi, yhi in zip(y, yhat) if len(yhi.values) > 0]"
   ]
  },
  {
   "cell_type": "code",
   "execution_count": null,
   "metadata": {},
   "outputs": [],
   "source": [
    "modes = [yhat_filter[i].mode() for i in range(len(yhat_filter))]\n",
    "std = [yhat_filter[i].std() for i in range(len(yhat_filter))]\n",
    "plt.errorbar(y_filter, modes, yerr=std, fmt=\"o\")\n",
    "plt.plot(y, y)\n",
    "plt.xlabel(\"Actual Yield\")\n",
    "plt.ylabel(\"Predicted Yield\")\n",
    "plt.show()"
   ]
  },
  {
   "cell_type": "code",
   "execution_count": null,
   "metadata": {},
   "outputs": [],
   "source": [
    "for yh, yi in zip(yhat, y):\n",
    "    print(yh, yi)"
   ]
  },
  {
   "cell_type": "code",
   "execution_count": null,
   "metadata": {},
   "outputs": [],
   "source": []
  }
 ],
 "metadata": {
  "kernelspec": {
   "display_name": "Python 3 (ipykernel)",
   "language": "python",
   "name": "python3"
  },
  "language_info": {
   "codemirror_mode": {
    "name": "ipython",
    "version": 3
   },
   "file_extension": ".py",
   "mimetype": "text/x-python",
   "name": "python",
   "nbconvert_exporter": "python",
   "pygments_lexer": "ipython3",
   "version": "3.10.4"
  },
  "vscode": {
   "interpreter": {
    "hash": "3e5a039a7a113538395a7d74f5574b0c5900118222149a18efb009bf03645fce"
   }
  }
 },
 "nbformat": 4,
 "nbformat_minor": 2
}
