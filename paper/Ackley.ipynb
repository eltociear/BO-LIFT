{
 "cells": [
  {
   "cell_type": "code",
   "execution_count": null,
   "metadata": {},
   "outputs": [],
   "source": [
    "import numpy as np\n",
    "import matplotlib.pyplot as plt\n",
    "\n",
    "MODEL = \"text-babbage-001\""
   ]
  },
  {
   "cell_type": "code",
   "execution_count": null,
   "metadata": {},
   "outputs": [],
   "source": [
    "# defining the function. At y=0 to get a 1D cut at the origin\n",
    "def ackley_1d(x, offset=2.1):\n",
    "    x = x - offset\n",
    "    # the formula is rather large\n",
    "    out = -(\n",
    "        -20 * np.exp(-0.2 * np.sqrt(0.5 * (x**2)))\n",
    "        - np.exp(0.5 * (np.cos(2 * np.pi * x) + np.cos(0)))\n",
    "        + np.e\n",
    "        + 20\n",
    "    )\n",
    "\n",
    "    # returning\n",
    "    return out\n",
    "\n",
    "\n",
    "x = np.linspace(-5, 5, 100)\n",
    "plt.plot(x, ackley_1d(x))"
   ]
  },
  {
   "cell_type": "code",
   "execution_count": null,
   "metadata": {},
   "outputs": [],
   "source": [
    "import bolift\n",
    "from langchain.prompts.prompt import PromptTemplate"
   ]
  },
  {
   "cell_type": "code",
   "execution_count": null,
   "metadata": {},
   "outputs": [],
   "source": [
    "asktell = bolift.AskTellFewShot(\n",
    "    x_formatter=lambda x: f\"f({x}) for the shifted Ackley function\", model=MODEL\n",
    ")\n",
    "asktell.predict(3)"
   ]
  },
  {
   "cell_type": "code",
   "execution_count": null,
   "metadata": {},
   "outputs": [],
   "source": [
    "N = 10\n",
    "pool = np.linspace(-5, 5, 50)\n",
    "pool_str = [f\"{x:0.2f}\" for x in pool]\n",
    "point = []\n",
    "pred_x = []\n",
    "pred_y = []\n",
    "true_y = []\n",
    "for i in range(N):\n",
    "    aq = \"expected_improvement\"\n",
    "    if i == N - 1:\n",
    "        aq = \"greedy\"\n",
    "    px, _, py = asktell.ask(pool_str, k=len(pool), aq_fxn=aq)\n",
    "    xc = float(px[0])\n",
    "    y = ackley_1d(xc)\n",
    "    asktell.tell(xc, y)\n",
    "    point.append((xc, y))\n",
    "    pred_x.append([float(x) for x in px])\n",
    "    pred_y.append(py)"
   ]
  },
  {
   "cell_type": "code",
   "execution_count": null,
   "metadata": {},
   "outputs": [],
   "source": [
    "plt.plot(range(N), [y for x, y in point])"
   ]
  },
  {
   "cell_type": "code",
   "execution_count": null,
   "metadata": {},
   "outputs": [],
   "source": [
    "def plot_one(i):\n",
    "    plt.figure()\n",
    "    plt.title(f\"N={i}\")\n",
    "    plt.plot(pool, ackley_1d(pool), label=\"True\")\n",
    "    plt.scatter(point[i][0], point[i][1], color=\"C3\", label=\"Selected\")\n",
    "    plt.scatter(\n",
    "        [p[0] for p in point[:i]],\n",
    "        [p[1] for p in point[:i]],\n",
    "        color=\"C4\",\n",
    "        label=\"All selected\",\n",
    "    )\n",
    "    sorted_idx = np.argsort(pred_x[i])\n",
    "    plt.plot(\n",
    "        np.array(pred_x[i])[sorted_idx],\n",
    "        np.array(pred_y[i])[sorted_idx],\n",
    "        label=\"Predicted\",\n",
    "    )\n",
    "    plt.legend()\n",
    "    plt.show()\n",
    "\n",
    "\n",
    "plot_one(0)\n",
    "plot_one(3)\n",
    "plot_one(N - 1)"
   ]
  },
  {
   "cell_type": "code",
   "execution_count": null,
   "metadata": {},
   "outputs": [],
   "source": [
    "print(asktell.prompt.format(x=\"0\", i=10))"
   ]
  },
  {
   "cell_type": "code",
   "execution_count": null,
   "metadata": {},
   "outputs": [],
   "source": [
    "asktell.predict(0), ackley_1d(0)"
   ]
  },
  {
   "cell_type": "markdown",
   "metadata": {},
   "source": [
    "## Topk Few Shot"
   ]
  },
  {
   "cell_type": "code",
   "execution_count": null,
   "metadata": {},
   "outputs": [],
   "source": [
    "asktell = bolift.AskTellFewShotTopk(\n",
    "    x_formatter=lambda x: f\"f({x}) for the shifted Ackley function\",\n",
    "    model=\"text-curie-001\",\n",
    ")\n",
    "asktell.predict(3)"
   ]
  },
  {
   "cell_type": "code",
   "execution_count": null,
   "metadata": {},
   "outputs": [],
   "source": [
    "N = 10\n",
    "pool = np.linspace(-5, 5, 50)\n",
    "pool_str = [f\"{x:0.2f}\" for x in pool]\n",
    "point = []\n",
    "pred_x = []\n",
    "pred_y = []\n",
    "true_y = []\n",
    "for i in range(N):\n",
    "    aq = \"expected_improvement\"\n",
    "    if i == N - 1:\n",
    "        aq = \"greedy\"\n",
    "    px, _, py = asktell.ask(pool_str, k=len(pool), aq_fxn=aq)\n",
    "    print(px)\n",
    "    xc = float(px[0])\n",
    "    y = ackley_1d(xc)\n",
    "    asktell.tell(xc, y)\n",
    "    point.append((xc, y))\n",
    "    pred_x.append([float(x) for x in px])\n",
    "    pred_y.append(py)"
   ]
  },
  {
   "cell_type": "code",
   "execution_count": null,
   "metadata": {},
   "outputs": [],
   "source": [
    "plt.plot(range(N), [y for x, y in point])"
   ]
  },
  {
   "cell_type": "code",
   "execution_count": null,
   "metadata": {},
   "outputs": [],
   "source": [
    "def plot_one(i):\n",
    "    plt.figure()\n",
    "    plt.title(f\"N={i}\")\n",
    "    plt.plot(pool, ackley_1d(pool), label=\"True\")\n",
    "    plt.scatter(point[i][0], point[i][1], color=\"C3\", label=\"Selected\")\n",
    "    plt.scatter(\n",
    "        [p[0] for p in point[:i]],\n",
    "        [p[1] for p in point[:i]],\n",
    "        color=\"C4\",\n",
    "        label=\"All selected\",\n",
    "    )\n",
    "    sorted_idx = np.argsort(pred_x[i])\n",
    "    plt.plot(\n",
    "        np.array(pred_x[i])[sorted_idx],\n",
    "        np.array(pred_y[i])[sorted_idx],\n",
    "        label=\"Predicted\",\n",
    "    )\n",
    "    plt.legend()\n",
    "    plt.show()\n",
    "\n",
    "\n",
    "plot_one(0)\n",
    "plot_one(3)\n",
    "plot_one(N - 1)"
   ]
  },
  {
   "cell_type": "code",
   "execution_count": null,
   "metadata": {},
   "outputs": [],
   "source": []
  }
 ],
 "metadata": {
  "kernelspec": {
   "display_name": "Python 3 (ipykernel)",
   "language": "python",
   "name": "python3"
  },
  "language_info": {
   "codemirror_mode": {
    "name": "ipython",
    "version": 3
   },
   "file_extension": ".py",
   "mimetype": "text/x-python",
   "name": "python",
   "nbconvert_exporter": "python",
   "pygments_lexer": "ipython3",
   "version": "3.10.4"
  },
  "vscode": {
   "interpreter": {
    "hash": "3e5a039a7a113538395a7d74f5574b0c5900118222149a18efb009bf03645fce"
   }
  }
 },
 "nbformat": 4,
 "nbformat_minor": 2
}
