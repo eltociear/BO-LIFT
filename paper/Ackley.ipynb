{
 "cells": [
  {
   "cell_type": "code",
   "execution_count": null,
   "metadata": {},
   "outputs": [],
   "source": [
    "import numpy as np\n",
    "import matplotlib.pyplot as plt\n",
    "\n",
    "MODEL = \"text-curie-001\""
   ]
  },
  {
   "cell_type": "code",
   "execution_count": null,
   "metadata": {},
   "outputs": [],
   "source": [
    "# defining the function. At y=0 to get a 1D cut at the origin\n",
    "def ackley_1d(x, offset=2.1):\n",
    "    x = x - offset\n",
    "    # the formula is rather large\n",
    "    out = -(\n",
    "        -20 * np.exp(-0.2 * np.sqrt(0.5 * (x**2)))\n",
    "        - np.exp(0.5 * (np.cos(2 * np.pi * x) + np.cos(0)))\n",
    "        + np.e\n",
    "        + 20\n",
    "    )\n",
    "\n",
    "    # returning\n",
    "    return out\n",
    "\n",
    "\n",
    "x = np.linspace(-5, 5, 200)\n",
    "plt.plot(x, ackley_1d(x))"
   ]
  },
  {
   "cell_type": "code",
   "execution_count": null,
   "metadata": {},
   "outputs": [],
   "source": [
    "import bolift\n",
    "from langchain.prompts.prompt import PromptTemplate"
   ]
  },
  {
   "attachments": {},
   "cell_type": "markdown",
   "metadata": {},
   "source": [
    "## Few Shot"
   ]
  },
  {
   "cell_type": "code",
   "execution_count": null,
   "metadata": {},
   "outputs": [],
   "source": [
    "asktell = bolift.AskTellFewShotMulti(\n",
    "    x_formatter=lambda x: f\"f({float(x):0.2f}) for the shifted Ackley function\",\n",
    "    model=MODEL,\n",
    "    selector_k=10,\n",
    ")"
   ]
  },
  {
   "cell_type": "code",
   "execution_count": null,
   "metadata": {},
   "outputs": [],
   "source": [
    "N = 8\n",
    "pool = bolift.Pool(list(x), formatter=asktell.format_x)\n",
    "xi = pool.sample(1)[0]\n",
    "# give one point\n",
    "asktell.tell(xi, ackley_1d(xi))\n",
    "point = []\n",
    "pred_x = []\n",
    "pred_y = []\n",
    "true_y = []\n",
    "for i in range(N):\n",
    "    aq = \"expected_improvement\"\n",
    "    if i == N - 1:\n",
    "        aq = \"greedy\"\n",
    "    px, _, py = asktell.ask(pool, k=4, aq_fxn=aq)\n",
    "    xc = float(px[0])\n",
    "    pool.choose(px[0])\n",
    "    y = ackley_1d(xc)\n",
    "    asktell.tell(xc, y)\n",
    "    point.append((xc, y))\n",
    "    pred_x.append([float(x) for x in px])\n",
    "    pred_y.append(py)\n",
    "    print(px[0], y)"
   ]
  },
  {
   "cell_type": "code",
   "execution_count": null,
   "metadata": {},
   "outputs": [],
   "source": [
    "plt.plot(range(N), [y for x, y in point])"
   ]
  },
  {
   "cell_type": "code",
   "execution_count": null,
   "metadata": {},
   "outputs": [],
   "source": [
    "def plot_one(i):\n",
    "    plt.figure()\n",
    "    plt.title(f\"N={i}\")\n",
    "    plt.plot(x, ackley_1d(x), label=\"True\")\n",
    "    plt.scatter(\n",
    "        [p[0] for p in point[:i]],\n",
    "        [p[1] for p in point[:i]],\n",
    "        color=\"C4\",\n",
    "        label=\"All selected\",\n",
    "    )\n",
    "    plt.scatter(point[i][0], point[i][1], color=\"C3\", label=\"Selected\")\n",
    "    sorted_idx = np.argsort(pred_x[i])\n",
    "    plt.plot(\n",
    "        np.array(pred_x[i])[sorted_idx],\n",
    "        np.array(pred_y[i])[sorted_idx],\n",
    "        label=\"Predicted\",\n",
    "    )\n",
    "    plt.legend()\n",
    "    plt.show()\n",
    "\n",
    "\n",
    "plot_one(0)\n",
    "plot_one(int(1 * N / 4))\n",
    "plot_one(int(2 * N / 4))\n",
    "plot_one(int(3 * N / 4))\n",
    "plot_one(N - 1)"
   ]
  },
  {
   "cell_type": "code",
   "execution_count": null,
   "metadata": {},
   "outputs": [],
   "source": [
    "print(asktell.prompt.format(x=\"0\", i=10, y_name=\"y value\"))"
   ]
  },
  {
   "cell_type": "code",
   "execution_count": null,
   "metadata": {},
   "outputs": [],
   "source": [
    "asktell.predict(0), ackley_1d(0)"
   ]
  },
  {
   "cell_type": "markdown",
   "metadata": {},
   "source": [
    "## Topk Few Shot"
   ]
  },
  {
   "cell_type": "code",
   "execution_count": null,
   "metadata": {},
   "outputs": [],
   "source": [
    "asktell = bolift.AskTellFewShotTopk(\n",
    "    x_formatter=lambda x: f\"f({x}) for the shifted Ackley function\",\n",
    "    model=\"text-babbage-001\",\n",
    ")\n",
    "asktell.predict(3)"
   ]
  },
  {
   "cell_type": "code",
   "execution_count": null,
   "metadata": {},
   "outputs": [],
   "source": [
    "N = 10\n",
    "pool = np.linspace(-5, 5, 50)\n",
    "pool_str = [f\"{x:0.2f}\" for x in pool]\n",
    "point = []\n",
    "pred_x = []\n",
    "pred_y = []\n",
    "true_y = []\n",
    "for i in range(N):\n",
    "    aq = \"expected_improvement\"\n",
    "    if i == N - 1:\n",
    "        aq = \"greedy\"\n",
    "    px, _, py = asktell.ask(pool_str, k=len(pool), aq_fxn=aq)\n",
    "    xc = float(px[0])\n",
    "    y = ackley_1d(xc)\n",
    "    asktell.tell(xc, y)\n",
    "    point.append((xc, y))\n",
    "    pred_x.append([float(x) for x in px])\n",
    "    pred_y.append(py)"
   ]
  },
  {
   "cell_type": "code",
   "execution_count": null,
   "metadata": {},
   "outputs": [],
   "source": [
    "plt.plot(range(N), [y for x, y in point])"
   ]
  },
  {
   "cell_type": "code",
   "execution_count": null,
   "metadata": {},
   "outputs": [],
   "source": [
    "def plot_one(i):\n",
    "    plt.figure()\n",
    "    plt.title(f\"N={i}\")\n",
    "    plt.plot(pool, ackley_1d(pool), label=\"True\")\n",
    "    plt.scatter(point[i][0], point[i][1], color=\"C3\", label=\"Selected\")\n",
    "    plt.scatter(\n",
    "        [p[0] for p in point[:i]],\n",
    "        [p[1] for p in point[:i]],\n",
    "        color=\"C4\",\n",
    "        label=\"All selected\",\n",
    "    )\n",
    "    sorted_idx = np.argsort(pred_x[i])\n",
    "    plt.plot(\n",
    "        np.array(pred_x[i])[sorted_idx],\n",
    "        np.array(pred_y[i])[sorted_idx],\n",
    "        label=\"Predicted\",\n",
    "    )\n",
    "    plt.legend()\n",
    "    plt.show()\n",
    "\n",
    "\n",
    "plot_one(0)\n",
    "plot_one(3)\n",
    "plot_one(N - 1)"
   ]
  },
  {
   "cell_type": "code",
   "execution_count": null,
   "metadata": {},
   "outputs": [],
   "source": []
  },
  {
   "attachments": {},
   "cell_type": "markdown",
   "metadata": {},
   "source": [
    "## AskTell Finetune"
   ]
  },
  {
   "cell_type": "code",
   "execution_count": null,
   "metadata": {},
   "outputs": [],
   "source": [
    "import numpy as np\n",
    "import matplotlib.pyplot as plt\n",
    "import bolift\n",
    "import os\n",
    "import openai\n",
    "\n",
    "def ackley_1d(x, offset=2.1):\n",
    "    x = x - offset\n",
    "    # the formula is rather large\n",
    "    out = -(\n",
    "        -20 * np.exp(-0.2 * np.sqrt(0.5 * (x**2)))\n",
    "        - np.exp(0.5 * (np.cos(2 * np.pi * x) + np.cos(0)))\n",
    "        + np.e\n",
    "        + 20\n",
    "    )\n",
    "\n",
    "    # returning\n",
    "    return out\n",
    "\n",
    "\n",
    "asktell = bolift.AskTellFinetuning(\n",
    "    x_formatter=lambda x: f\"f({x}) for the shifted Ackley function\",\n",
    "    model=\"text-babbage-001\",\n",
    "    # id=\"ft-NdChhQO5ojVByicsALqwHE9L\",\n",
    "    finetune=True,\n",
    ")\n",
    "print(f\"f(3), {asktell.predict(3)}\")\n",
    "pool = np.linspace(-5, 5, 50)\n",
    "pool_str = [f\"{x:0.2f}\" for x in pool]\n",
    "point = []\n",
    "pred_x = []\n",
    "pred_y = []\n",
    "true_y = []\n",
    "aq = \"greedy\"\n",
    "px, _, py = asktell.ask(pool_str, k=len(pool), aq_fxn=aq)\n",
    "xc = float(px[0])\n",
    "y = ackley_1d(xc)\n",
    "asktell.tell(xc, y)\n",
    "point.append((xc, y))\n",
    "pred_x.append([float(x) for x in px])\n",
    "pred_y.append(py)\n",
    "\n",
    "print(f\"f(3), {asktell.predict(3)}\")"
   ]
  },
  {
   "cell_type": "code",
   "execution_count": null,
   "metadata": {},
   "outputs": [],
   "source": [
    "N = 15\n",
    "pool = np.linspace(-5, 5, 50)\n",
    "pool_str = [f\"{x:0.2f}\" for x in pool]\n",
    "point = []\n",
    "pred_x = []\n",
    "pred_y = []\n",
    "true_y = []\n",
    "for i in range(N):\n",
    "    aq = \"expected_improvement\"\n",
    "    if i == N - 1:\n",
    "        aq = \"greedy\"\n",
    "    px, _, py = asktell.ask(pool_str, k=len(pool), aq_fxn=aq)\n",
    "    xc = float(px[0])\n",
    "    y = ackley_1d(xc)\n",
    "    asktell.tell(xc, y)\n",
    "    point.append((xc, y))\n",
    "    pred_x.append([float(x) for x in px])\n",
    "    pred_y.append(py)"
   ]
  },
  {
   "cell_type": "code",
   "execution_count": null,
   "metadata": {},
   "outputs": [],
   "source": [
    "asktell = bolift.AskTellFinetuning(\n",
    "    x_formatter=lambda x: f\"f({x}) for the shifted Ackley function\",\n",
    "    # id=\"ft-NdChhQO5ojVByicsALqwHE9L\",\n",
    "    model=\"text-babbage-001\",\n",
    "    finetune=False,\n",
    ")\n",
    "\n",
    "print(f\"f(3), {asktell.predict(3)}\")\n",
    "print(ackley_1d(3))"
   ]
  },
  {
   "cell_type": "code",
   "execution_count": null,
   "metadata": {},
   "outputs": [],
   "source": [
    "N = 11\n",
    "pool = np.linspace(-5, 5, 100)\n",
    "pool_str = [f\"{x:0.2f}\" for x in pool]\n",
    "point = []\n",
    "pred_x = []\n",
    "pred_y = []\n",
    "true_y = []\n",
    "for i in range(N):\n",
    "    aq = \"expected_improvement\"\n",
    "    if i == N - 1:\n",
    "        aq = \"greedy\"\n",
    "    px, _, py = asktell.ask(pool_str, k=len(pool), aq_fxn=aq)\n",
    "    xc = float(px[0])\n",
    "    y = ackley_1d(xc)\n",
    "    asktell.tell(xc, y)\n",
    "    point.append((xc, y))\n",
    "    pred_x.append([float(x) for x in px])\n",
    "    pred_y.append(py)"
   ]
  },
  {
   "cell_type": "code",
   "execution_count": null,
   "metadata": {},
   "outputs": [],
   "source": [
    "def plot_one(i):\n",
    "    plt.figure()\n",
    "    plt.title(f\"N={i}\")\n",
    "    plt.plot(pool, ackley_1d(pool), label=\"True\")\n",
    "    plt.scatter(point[i][0], point[i][1], color=\"C3\", label=\"Selected\")\n",
    "    plt.scatter(\n",
    "        [p[0] for p in point[:i]],\n",
    "        [p[1] for p in point[:i]],\n",
    "        color=\"C4\",\n",
    "        label=\"All selected\",\n",
    "    )\n",
    "    sorted_idx = np.argsort(pred_x[i])\n",
    "    plt.plot(\n",
    "        np.array(pred_x[i])[sorted_idx],\n",
    "        np.array(pred_y[i])[sorted_idx],\n",
    "        label=\"Predicted\",\n",
    "    )\n",
    "    plt.legend()\n",
    "    plt.show()\n",
    "\n",
    "\n",
    "plot_one(0)\n",
    "plot_one(5)\n",
    "plot_one(N - 1)"
   ]
  },
  {
   "cell_type": "code",
   "execution_count": null,
   "metadata": {},
   "outputs": [],
   "source": []
  }
 ],
 "metadata": {
  "kernelspec": {
   "display_name": "Python 3",
   "language": "python",
   "name": "python3"
  },
  "language_info": {
   "codemirror_mode": {
    "name": "ipython",
    "version": 3
   },
   "file_extension": ".py",
   "mimetype": "text/x-python",
   "name": "python",
   "nbconvert_exporter": "python",
   "pygments_lexer": "ipython3",
   "version": "3.11.2"
  },
  "vscode": {
   "interpreter": {
    "hash": "e4d71ab05965f6396a5a9de6574d1c01b6468409c861318f86f7fd2a236e9e71"
   }
  }
 },
 "nbformat": 4,
 "nbformat_minor": 2
}
