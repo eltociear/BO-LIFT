{
 "cells": [
  {
   "cell_type": "code",
   "execution_count": null,
   "metadata": {},
   "outputs": [],
   "source": [
    "import bolift\n",
    "import numpy as np\n",
    "import matplotlib.pyplot as plt\n",
    "import json\n",
    "import pandas as pd\n",
    "from langchain.prompts.prompt import PromptTemplate\n",
    "\n",
    "\n",
    "data_path = \"paper/data/regression_dataset_sial_ratio.csv\""
   ]
  },
  {
   "cell_type": "code",
   "execution_count": null,
   "metadata": {},
   "outputs": [],
   "source": [
    "raw_data = pd.read_csv(data_path)\n",
    "raw_data.head()"
   ]
  },
  {
   "cell_type": "code",
   "execution_count": null,
   "metadata": {},
   "outputs": [],
   "source": [
    "asktell = bolift.AskTellFewShot(\n",
    "    x_formatter=lambda x: f\"A synthesis procedure:\\n{x}\",\n",
    "    y_name=\"Si/Al ratio\",\n",
    "    y_formatter=lambda y: f\"{y:.2f}\",\n",
    "    model=\"text-curie-001\",\n",
    "    selector_k=4,\n",
    ")"
   ]
  },
  {
   "cell_type": "code",
   "execution_count": null,
   "metadata": {},
   "outputs": [],
   "source": [
    "train = np.random.choice(raw_data.shape[0], 450, replace=False)\n",
    "test = np.setdiff1d(np.arange(raw_data.shape[0]), train)\n",
    "# shuffle test\n",
    "np.random.shuffle(test)\n",
    "for i in train:\n",
    "    asktell.tell(raw_data.iloc[i, 0], float(raw_data.iloc[i, 1]))\n",
    "y = []\n",
    "yhat = []\n",
    "for j in test[:5]:\n",
    "    y.append(float(raw_data.iloc[j, 1]))\n",
    "    yhat.append(asktell.predict(raw_data.iloc[j, 0]))"
   ]
  },
  {
   "cell_type": "code",
   "execution_count": null,
   "metadata": {},
   "outputs": [],
   "source": [
    "modes = [yhat[i].mode() for i in range(len(yhat))]\n",
    "std = [yhat[i].std() for i in range(len(yhat))]\n",
    "plt.errorbar(y, modes, yerr=std, fmt=\"o\")\n",
    "plt.xlabel(\"Actual\")\n",
    "plt.ylabel(\"Predicted\")\n",
    "plt.show()"
   ]
  },
  {
   "cell_type": "code",
   "execution_count": null,
   "metadata": {},
   "outputs": [],
   "source": [
    "for yh, y in zip(yhat, y):\n",
    "    print(yh, y)"
   ]
  },
  {
   "cell_type": "code",
   "execution_count": null,
   "metadata": {},
   "outputs": [],
   "source": [
    "print(raw_data.iloc[test[0], 1])\n",
    "print(\n",
    "    asktell.prompt.format(\n",
    "        x=asktell._x_formatter(raw_data.iloc[test[0], 0]), i=\"5\", y_name=\"Si/Al Ratio\"\n",
    "    )\n",
    ")"
   ]
  },
  {
   "cell_type": "code",
   "execution_count": null,
   "metadata": {},
   "outputs": [],
   "source": []
  }
 ],
 "metadata": {
  "kernelspec": {
   "display_name": "Python 3 (ipykernel)",
   "language": "python",
   "name": "python3"
  },
  "language_info": {
   "codemirror_mode": {
    "name": "ipython",
    "version": 3
   },
   "file_extension": ".py",
   "mimetype": "text/x-python",
   "name": "python",
   "nbconvert_exporter": "python",
   "pygments_lexer": "ipython3",
   "version": "3.10.4"
  },
  "vscode": {
   "interpreter": {
    "hash": "3e5a039a7a113538395a7d74f5574b0c5900118222149a18efb009bf03645fce"
   }
  }
 },
 "nbformat": 4,
 "nbformat_minor": 2
}
