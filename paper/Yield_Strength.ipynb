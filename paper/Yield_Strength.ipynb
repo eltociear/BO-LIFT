{
 "cells": [
  {
   "cell_type": "code",
   "execution_count": null,
   "metadata": {},
   "outputs": [],
   "source": [
    "import bolift\n",
    "import numpy as np\n",
    "import matplotlib.pyplot as plt\n",
    "import json\n",
    "import pandas as pd\n",
    "from langchain.prompts.prompt import PromptTemplate\n",
    "\n",
    "\n",
    "data_path = \"paper/data/yield_strength.csv\"\n",
    "np.random.seed(0)"
   ]
  },
  {
   "cell_type": "code",
   "execution_count": null,
   "metadata": {},
   "outputs": [],
   "source": [
    "raw_data = pd.read_csv(data_path)\n",
    "raw_data.columns"
   ]
  },
  {
   "cell_type": "code",
   "execution_count": null,
   "metadata": {},
   "outputs": [],
   "source": [
    "asktell = bolift.AskTellFewShotMulti(\n",
    "    x_formatter=lambda x: f\"alloy composition of {x}\",\n",
    "    y_name=\"yield strength\",\n",
    "    y_formatter=lambda y: f\"{y:.2f}\",\n",
    "    model=\"text-curie-001\",\n",
    "    selector_k=10,\n",
    ")"
   ]
  },
  {
   "cell_type": "code",
   "execution_count": null,
   "metadata": {},
   "outputs": [],
   "source": [
    "N = raw_data.shape[0]\n",
    "train = np.random.choice(raw_data.shape[0], int(N * 0.8), replace=False)\n",
    "test = np.setdiff1d(np.arange(raw_data.shape[0]), train)\n",
    "# shuffle test\n",
    "np.random.shuffle(test)\n",
    "print(N, len(train), len(test))"
   ]
  },
  {
   "cell_type": "code",
   "execution_count": null,
   "metadata": {},
   "outputs": [],
   "source": [
    "for i in train:\n",
    "    asktell.tell(raw_data.iloc[i, 0], float(raw_data.iloc[i, 1]))\n",
    "y = []\n",
    "yhat = []\n",
    "for j in test[:10]:\n",
    "    y.append(float(raw_data.iloc[j, 1]))\n",
    "    yhat.append(asktell.predict(raw_data.iloc[j, 0]))"
   ]
  },
  {
   "cell_type": "code",
   "execution_count": null,
   "metadata": {},
   "outputs": [],
   "source": [
    "# filter out failed\n",
    "y_filter = [yi for yi, yhi in zip(y, yhat) if len(yhi.values) > 0]\n",
    "yhat_filter = [yhi for yi, yhi in zip(y, yhat) if len(yhi.values) > 0]"
   ]
  },
  {
   "cell_type": "code",
   "execution_count": null,
   "metadata": {},
   "outputs": [],
   "source": [
    "modes = [yhat_filter[i].mode() for i in range(len(yhat_filter))]\n",
    "std = [yhat_filter[i].std() for i in range(len(yhat_filter))]\n",
    "plt.errorbar(y_filter, modes, yerr=std, fmt=\"o\")\n",
    "plt.plot(y, y)\n",
    "plt.xlabel(\"Actual Yield\")\n",
    "plt.ylabel(\"Predicted Yield\")\n",
    "plt.show()"
   ]
  },
  {
   "cell_type": "code",
   "execution_count": null,
   "metadata": {},
   "outputs": [],
   "source": [
    "for yh, yi in zip(yhat, y):\n",
    "    print(yh, yi)"
   ]
  },
  {
   "cell_type": "code",
   "execution_count": null,
   "metadata": {},
   "outputs": [],
   "source": [
    "asktell = bolift.AskTellFewShotMulti(\n",
    "    x_formatter=lambda x: f\"alloy composition of {x}\",\n",
    "    y_name=\"yield strength\",\n",
    "    y_formatter=lambda y: f\"{y:.2f}\",\n",
    "    model=\"text-curie-001\",\n",
    "    selector_k=10,\n",
    ")\n",
    "# tell it select_k examples\n",
    "\n",
    "for i in train[:10]:\n",
    "    asktell.tell(raw_data.iloc[i, 0], float(raw_data.iloc[i, 1]))"
   ]
  },
  {
   "cell_type": "code",
   "execution_count": null,
   "metadata": {},
   "outputs": [],
   "source": [
    "N = 10\n",
    "pool = test[:50]\n",
    "pool_str = [raw_data.iloc[i, 0] for i in pool]\n",
    "point = []\n",
    "pred_y = []\n",
    "true_y = []\n",
    "for i in range(N):\n",
    "    aq = \"expected_improvement\"\n",
    "    if i == N - 1:\n",
    "        aq = \"greedy\"\n",
    "    px, _, py = asktell.ask(pool_str, k=len(pool), aq_fxn=aq)\n",
    "    xc = px[np.argmax(py)]\n",
    "    y = float(raw_data[raw_data[\"composition\"] == xc][\"yield strength\"])\n",
    "    asktell.tell(xc, y)\n",
    "    point.append((xc, y))\n",
    "    pred_y.append(py)"
   ]
  },
  {
   "cell_type": "code",
   "execution_count": null,
   "metadata": {},
   "outputs": [],
   "source": [
    "plt.axhline(y=raw_data[\"yield strength\"].min(), color=\"C0\", linestyle=\"--\", label=\"min\")\n",
    "plt.axhline(\n",
    "    y=raw_data[\"yield strength\"].mean(), color=\"C1\", linestyle=\"--\", label=\"mean\"\n",
    ")\n",
    "plt.axhline(y=raw_data[\"yield strength\"].max(), color=\"C2\", linestyle=\"--\", label=\"max\")\n",
    "# give 5% quantiles\n",
    "plt.axhline(\n",
    "    y=raw_data[\"yield strength\"].quantile(0.05), color=\"C3\", linestyle=\"--\", label=\"5%\"\n",
    ")\n",
    "plt.axhline(\n",
    "    y=raw_data[\"yield strength\"].quantile(0.95), color=\"C4\", linestyle=\"--\", label=\"95%\"\n",
    ")\n",
    "maxes = [max([y for x, y in point][:i]) for i in range(1, N + 1)]\n",
    "# plt.plot(range(10, N + 10), maxes)\n",
    "plt.plot(range(1, N + 1), [y for x, y in point])\n",
    "plt.legend()"
   ]
  },
  {
   "cell_type": "code",
   "execution_count": null,
   "metadata": {},
   "outputs": [],
   "source": []
  }
 ],
 "metadata": {
  "kernelspec": {
   "display_name": "Python 3 (ipykernel)",
   "language": "python",
   "name": "python3"
  },
  "language_info": {
   "codemirror_mode": {
    "name": "ipython",
    "version": 3
   },
   "file_extension": ".py",
   "mimetype": "text/x-python",
   "name": "python",
   "nbconvert_exporter": "python",
   "pygments_lexer": "ipython3",
   "version": "3.10.4"
  }
 },
 "nbformat": 4,
 "nbformat_minor": 2
}
