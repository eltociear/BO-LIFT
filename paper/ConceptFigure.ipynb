{
 "cells": [
  {
   "cell_type": "code",
   "execution_count": null,
   "metadata": {},
   "outputs": [],
   "source": [
    "import numpy as np\n",
    "import math\n",
    "import matplotlib.pyplot as plt\n",
    "\n",
    "MODEL = \"text-curie-001\""
   ]
  },
  {
   "cell_type": "code",
   "execution_count": null,
   "metadata": {},
   "outputs": [],
   "source": [
    "import matplotlib.pyplot as plt\n",
    "import matplotlib.font_manager as font_manager\n",
    "import urllib.request\n",
    "\n",
    "\n",
    "urllib.request.urlretrieve(\n",
    "    \"https://github.com/google/fonts/raw/main/ofl/ibmplexmono/IBMPlexMono-Regular.ttf\",\n",
    "    \"IBMPlexMono-Regular.ttf\",\n",
    ")\n",
    "fe = font_manager.FontEntry(fname=\"IBMPlexMono-Regular.ttf\", name=\"plexmono\")\n",
    "font_manager.fontManager.ttflist.append(fe)\n",
    "plt.rcParams.update(\n",
    "    {\n",
    "        \"axes.facecolor\": \"#f5f4e9\",\n",
    "        \"grid.color\": \"#AAAAAA\",\n",
    "        \"axes.edgecolor\": \"#333333\",\n",
    "        \"figure.facecolor\": \"#FFFFFF\",\n",
    "        \"axes.grid\": False,\n",
    "        \"axes.prop_cycle\": plt.cycler(\"color\", plt.cm.Dark2.colors),\n",
    "        \"font.family\": fe.name,\n",
    "        \"figure.figsize\": (3.5, 3.5 / 1.2),\n",
    "        \"ytick.left\": True,\n",
    "        \"xtick.bottom\": True,\n",
    "    }\n",
    ")\n",
    "\n",
    "import random\n",
    "\n",
    "np.random.seed(0)\n",
    "random.seed(0)"
   ]
  },
  {
   "cell_type": "code",
   "execution_count": null,
   "metadata": {},
   "outputs": [],
   "source": [
    "# defining the function. At y=0 to get a 1D cut at the origin\n",
    "def ackley_1d(x, offset=2.1):\n",
    "    x = x - offset\n",
    "    # the formula is rather large\n",
    "    out = -(\n",
    "        -20 * np.exp(-0.2 * np.sqrt(0.5 * (x**2)))\n",
    "        - np.exp(0.5 * (np.cos(2 * np.pi * x) + np.cos(0)))\n",
    "        + np.e\n",
    "        + 20\n",
    "    )\n",
    "\n",
    "    # returning\n",
    "    return out\n",
    "\n",
    "\n",
    "x = np.linspace(-5, 5, 200)\n",
    "plt.plot(x, ackley_1d(x))"
   ]
  },
  {
   "cell_type": "code",
   "execution_count": null,
   "metadata": {},
   "outputs": [],
   "source": [
    "import bolift\n",
    "from langchain.prompts.prompt import PromptTemplate"
   ]
  },
  {
   "attachments": {},
   "cell_type": "markdown",
   "metadata": {},
   "source": [
    "## Few Shot"
   ]
  },
  {
   "cell_type": "code",
   "execution_count": null,
   "metadata": {},
   "outputs": [],
   "source": [
    "def run_experiment(asktell_class, N=10, aq=\"random\"):\n",
    "    asktell = asktell_class(\n",
    "        x_formatter=lambda x: f\"f({float(x):0.2f}) for the shifted Ackley function\",\n",
    "        model=MODEL,\n",
    "    )\n",
    "    pool = bolift.Pool(list(x), formatter=asktell.format_x)\n",
    "    # start low\n",
    "    xi = x[np.random.choice(25, 1)[0]]\n",
    "    pool.choose(xi)\n",
    "    # give one point\n",
    "    asktell.tell(xi, ackley_1d(xi))\n",
    "    point = [(xi, ackley_1d(xi))]\n",
    "    best = point[0][1]\n",
    "    for i in range(N):\n",
    "        if i == N - 1 and aq != \"random\":\n",
    "            aq = \"greedy\"\n",
    "        px, _, py = asktell.ask(pool, k=1, aq_fxn=aq)\n",
    "        xc = float(px[0])\n",
    "        pool.choose(px[0])\n",
    "        y = ackley_1d(xc)\n",
    "        asktell.tell(xc, y)\n",
    "        best = max(y, best)\n",
    "        point.append((xc, best))\n",
    "    return point"
   ]
  },
  {
   "cell_type": "code",
   "execution_count": null,
   "metadata": {},
   "outputs": [],
   "source": [
    "N = 10\n",
    "M = 25\n",
    "plt.figure(figsize=(3.5, 3.5 / 1.2))\n",
    "points = []\n",
    "for i in range(M):\n",
    "    point = run_experiment(bolift.AskTellFewShotTopk, N=N, aq=\"random\")\n",
    "    points.append(point)\n",
    "    plt.plot(range(N + 1), [y for x, y in point], color=\"C0\", alpha=0.1)\n",
    "# plot mean\n",
    "points = np.array(points)\n",
    "plt.plot(range(N + 1), points.mean(axis=0)[:, 1], color=\"C0\", label=\"Random\")\n",
    "\n",
    "\n",
    "points = []\n",
    "for i in range(M):\n",
    "    point = run_experiment(bolift.AskTellFewShotTopk, N=N, aq=\"greedy\")\n",
    "    points.append(point)\n",
    "    plt.plot(range(N + 1), [y for x, y in point], color=\"C2\", alpha=0.1)\n",
    "# plot mean\n",
    "points = np.array(points)\n",
    "plt.plot(range(N + 1), points.mean(axis=0)[:, 1], color=\"C2\", label=\"Greedy\")\n",
    "\n",
    "points = []\n",
    "for i in range(M):\n",
    "    point = run_experiment(bolift.AskTellFewShotTopk, N=N, aq=\"expected_improvement\")\n",
    "    points.append(point)\n",
    "    plt.plot(range(N + 1), [y for x, y in point], color=\"C1\", alpha=0.1)\n",
    "# plot mean\n",
    "points = np.array(points)\n",
    "plt.plot(range(N + 1), points.mean(axis=0)[:, 1], color=\"C1\", label=\"EI\")\n",
    "\n",
    "\n",
    "plt.xlabel(\"Samples\")\n",
    "# reduce number of ticks\n",
    "plt.xticks([0, 5, 10])\n",
    "plt.ylim(-10, 0)\n",
    "plt.yticks(np.linspace(-10, 0, 3))\n",
    "plt.legend()\n",
    "plt.savefig(\"concept_topk.png\", dpi=300)"
   ]
  },
  {
   "cell_type": "code",
   "execution_count": null,
   "metadata": {},
   "outputs": [],
   "source": [
    "N = 10\n",
    "M = 25\n",
    "plt.figure(figsize=(3.5, 3.5 / 1.2))\n",
    "random_points = []\n",
    "for i in range(M):\n",
    "    point = run_experiment(bolift.AskTellFewShotMulti, N=N, aq=\"random\")\n",
    "    random_points.append(point)\n",
    "    plt.plot(range(N + 1), [y for x, y in point], color=\"C0\", alpha=0.1)\n",
    "# plot mean\n",
    "random_points = np.array(random_points)\n",
    "plt.plot(range(N + 1), random_points.mean(axis=0)[:, 1], color=\"C0\", label=\"Random\")\n",
    "\n",
    "greedy_points = []\n",
    "for i in range(M):\n",
    "    point = run_experiment(bolift.AskTellFewShotMulti, N=N, aq=\"greedy\")\n",
    "    greedy_points.append(point)\n",
    "    plt.plot(range(N + 1), [y for x, y in point], color=\"C2\", alpha=0.1)\n",
    "# plot mean\n",
    "greedy_points = np.array(greedy_points)\n",
    "plt.plot(range(N + 1), greedy_points.mean(axis=0)[:, 1], color=\"C2\", label=\"Greedy\")\n",
    "\n",
    "ei_points = []\n",
    "for i in range(M):\n",
    "    point = run_experiment(bolift.AskTellFewShotMulti, N=N, aq=\"expected_improvement\")\n",
    "    ei_points.append(point)\n",
    "    plt.plot(range(N + 1), [y for x, y in point], color=\"C1\", alpha=0.1)\n",
    "# plot mean\n",
    "ei_points = np.array(ei_points)\n",
    "plt.plot(range(N + 1), ei_points.mean(axis=0)[:, 1], color=\"C1\", label=\"EI\")\n",
    "\n",
    "plt.xlabel(\"Samples\")\n",
    "# reduce number of ticks\n",
    "plt.xticks([0, 5, 10])\n",
    "plt.ylim(-10, 0)\n",
    "plt.yticks(np.linspace(-10, 0, 3))\n",
    "plt.legend()\n",
    "plt.savefig(\"concept_multi.png\", dpi=300)"
   ]
  },
  {
   "cell_type": "code",
   "execution_count": null,
   "metadata": {},
   "outputs": [],
   "source": []
  }
 ],
 "metadata": {
  "kernelspec": {
   "display_name": "Python 3 (ipykernel)",
   "language": "python",
   "name": "python3"
  },
  "language_info": {
   "codemirror_mode": {
    "name": "ipython",
    "version": 3
   },
   "file_extension": ".py",
   "mimetype": "text/x-python",
   "name": "python",
   "nbconvert_exporter": "python",
   "pygments_lexer": "ipython3",
   "version": "3.10.4"
  },
  "vscode": {
   "interpreter": {
    "hash": "e4d71ab05965f6396a5a9de6574d1c01b6468409c861318f86f7fd2a236e9e71"
   }
  }
 },
 "nbformat": 4,
 "nbformat_minor": 2
}
