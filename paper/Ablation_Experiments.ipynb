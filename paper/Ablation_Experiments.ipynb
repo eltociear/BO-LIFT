{
 "cells": [
  {
   "cell_type": "code",
   "execution_count": 15,
   "metadata": {},
   "outputs": [],
   "source": [
    "import bolift\n",
    "import numpy as np\n",
    "import json\n",
    "import pandas as pd\n",
    "from langchain.prompts.prompt import PromptTemplate\n",
    "import itertools\n",
    "import os\n",
    "import openai\n",
    "\n",
    "np.random.seed(0)"
   ]
  },
  {
   "attachments": {},
   "cell_type": "markdown",
   "metadata": {},
   "source": [
    "# Ablation experiments"
   ]
  },
  {
   "cell_type": "code",
   "execution_count": 16,
   "metadata": {},
   "outputs": [],
   "source": [
    "from tenacity import (\n",
    "    retry,\n",
    "    stop_after_attempt,\n",
    "    wait_random_exponential,\n",
    ")\n",
    "@retry(wait=wait_random_exponential(min=1, max=60), stop=stop_after_attempt(6))\n",
    "def run_ablation_experiment(asktell, train_data, test_data):\n",
    "    for i in range(len(train_data)):\n",
    "        asktell.tell(train_data.iloc[i, 0], float(train_data.iloc[i, 1]))\n",
    "    x    = []\n",
    "    y    = []\n",
    "    yhat = []\n",
    "    for j in range(len(test_data)):\n",
    "        x.append(test_data.iloc[j, 0])\n",
    "        y.append(float(test_data.iloc[j, 1]))\n",
    "        yhat.append(asktell.predict(test_data.iloc[j, 0]))\n",
    "\n",
    "    # We should count how many x's have no yhat\n",
    "    x_filter = [xi for xi, yhi in zip(x, yhat) if len(yhi.values) > 0]\n",
    "    y_filter = [yi for yi, yhi in zip(y, yhat) if len(yhi.values) > 0]\n",
    "    yhat_filter = [yhi for yi, yhi in zip(y, yhat) if len(yhi.values) > 0]\n",
    "    return x_filter, y_filter, yhat_filter\n",
    "    \n",
    "def save_csv(filename, x, y, yhat, data, model, T, k, N, model_class, tokens):\n",
    "    if not os.path.exists(filename):\n",
    "        f = open(filename, \"w\")\n",
    "        f.write(\"y;yhat;yprobs;data;model;Temperature;k_selected;N_train;model_class;n_tokens;x\\n\")\n",
    "    else:\n",
    "        f = open(filename, \"a\")\n",
    "    for xi, yi, yhi in zip(x, y, yhat):\n",
    "        for v,p in zip(yhi.values, yhi.probs):\n",
    "            f.write(f\"{yi};{v};{p:.4f};{data};{model};{T};{k};{N};{model_class};{tokens};{xi}\\n\")\n",
    "    f.close()\n",
    "\n",
    "T_list = [0.05, 0.5, 1.0, 1.5]\n",
    "k_list = [0, 5, 10]\n",
    "N_list = [1,2,3,4,5,10,25,50,100,200] # depends on each dataset\n",
    "models_list = [\"text-curie-001\"]\n",
    "out_csv_file = \"ablation_results.csv\""
   ]
  },
  {
   "cell_type": "code",
   "execution_count": 17,
   "metadata": {},
   "outputs": [],
   "source": [
    "# def parity_plot(y, yhat):\n",
    "#     modes = [yhat[i].mode() for i in range(len(yhat))]\n",
    "#     std = [yhat[i].std() for i in range(len(yhat))]\n",
    "#     plt.errorbar(y, modes, yerr=std, fmt=\"o\")\n",
    "#     plt.plot(y, y)\n",
    "#     plt.xlabel(\"Actual Yield\")\n",
    "#     plt.ylabel(\"Predicted Yield\")\n",
    "#     plt.show()"
   ]
  },
  {
   "attachments": {},
   "cell_type": "markdown",
   "metadata": {},
   "source": [
    "## C2 yield"
   ]
  },
  {
   "cell_type": "code",
   "execution_count": 18,
   "metadata": {},
   "outputs": [
    {
     "name": "stdout",
     "output_type": "stream",
     "text": [
      "12708 1016 254\n"
     ]
    }
   ],
   "source": [
    "data_path = \"paper/data/C2_yield_meth_oxy_short.csv\"\n",
    "raw_data = pd.read_csv(data_path)\n",
    "\n",
    "np.random.seed(0)\n",
    "\n",
    "N = raw_data.shape[0]\n",
    "train = np.random.choice(raw_data.shape[0], int(N * 0.8), replace=False)\n",
    "test = np.setdiff1d(np.arange(raw_data.shape[0]), train)\n",
    "np.random.shuffle(test)\n",
    "\n",
    "train_data = raw_data.iloc[train, :].reset_index(drop=True)[:int(0.1*len(train))]\n",
    "# train_data[\"prompt\"] = train_data[\"prompt\"].map(lambda x: x.replace(\",\", \";\"))\n",
    "test_data = raw_data.iloc[test, :].reset_index(drop=True)[:int(0.1*len(test))]\n",
    "# test_data[\"prompt\"] = test_data[\"prompt\"].map(lambda x: x.replace(\",\", \";\"))\n",
    "print(N, len(train_data), len(test_data))"
   ]
  },
  {
   "cell_type": "code",
   "execution_count": 5,
   "metadata": {},
   "outputs": [
    {
     "name": "stdout",
     "output_type": "stream",
     "text": [
      " 5.92\n",
      " 5.92\n",
      " 5.92\n",
      " 5.92\n",
      " 5.92\n"
     ]
    },
    {
     "data": {
      "text/plain": [
       "DiscreteDist([5.92 5.92 5.92 5.92 5.92], [0.2 0.2 0.2 0.2 0.2])"
      ]
     },
     "execution_count": 5,
     "metadata": {},
     "output_type": "execute_result"
    }
   ],
   "source": [
    "asktell = bolift.AskTellFewShotTopk(\n",
    "    x_formatter=lambda x: f\"experimental procedure: {x}\",\n",
    "    y_name=\"C2 yield\",\n",
    "    y_formatter=lambda y: f\"{y:.2f}\",\n",
    "    model='text-curie-001',\n",
    "    selector_k=1,\n",
    "    temperature=0.05,\n",
    "    verbose=False,\n",
    ")\n",
    "\n",
    "for i in range(25):\n",
    "    asktell.tell(train_data.iloc[i, 0], float(train_data.iloc[i, 1]))\n",
    "# test_data.iloc[j, 0]\n",
    "# float(test_data.iloc[j, 1])\n",
    "p = \" To synthesize Mn-Na2WO4/Al2O3 , Al2O3 (1.0 g) was impregnated with 4.5 mL of an aqueous solution consiting of Mn ( 0.37 mol) , Na ( 0.37 mol) , W ( 0.185 mol) , at 50 �C for 6 h. Once activated the reaction is ran at 750 �C. The total flow rate was 15 mL/min (Ar: 6.0 mL/min, CH4: 6.8 mL/min, O2: 2.3 mL/min), leading to a contact time of 0.5 s.\"\n",
    "asktell.predict(p)"
   ]
  },
  {
   "attachments": {},
   "cell_type": "markdown",
   "metadata": {},
   "source": [
    "### multi"
   ]
  },
  {
   "cell_type": "code",
   "execution_count": 19,
   "metadata": {},
   "outputs": [],
   "source": [
    "def run_C2_multi_ablation(train_data, test_data, model=\"text-curie-001\", T=0.05, N=50, k=10):\n",
    "    asktell = bolift.AskTellFewShotMulti(\n",
    "        x_formatter=lambda x: f\"experimental procedure: {x}\",\n",
    "        y_name=\"C2 yield\",\n",
    "        y_formatter=lambda y: f\"{y:.2f}\",\n",
    "        model=model,\n",
    "        selector_k=k,\n",
    "        temperature=T\n",
    "    )\n",
    "    exp_train_data = train_data[:N]\n",
    "    x, y, yhat =  run_ablation_experiment(asktell, exp_train_data, test_data)\n",
    "\n",
    "    data=\"C2\"\n",
    "    model_class=\"multi\"\n",
    "    save_csv(out_csv_file, x, y, yhat, data, model, T, k, N, model_class, asktell.tokens_used)\n",
    "\n",
    "    return y, yhat"
   ]
  },
  {
   "cell_type": "code",
   "execution_count": 20,
   "metadata": {},
   "outputs": [
    {
     "name": "stdout",
     "output_type": "stream",
     "text": [
      "Running C2 multi ablation with T=0.05, k=5, N=1000, model=text-davinci-001  --> done\n"
     ]
    }
   ],
   "source": [
    "\n",
    "T_list = [0.05]\n",
    "k_list = [5]\n",
    "N_list = [1000]\n",
    "models_list = [\"text-davinci-001\"]\n",
    "for T, k, N, model in itertools.product(T_list, k_list, N_list, models_list):\n",
    "  print(f\"Running C2 multi ablation with T={T}, k={k}, N={N}, model={model}\", end=\" \")\n",
    "  y, yhat = run_C2_multi_ablation(train_data, test_data, model=model, T=T, N=N, k=k)\n",
    "  print(\" --> done\")\n"
   ]
  },
  {
   "attachments": {},
   "cell_type": "markdown",
   "metadata": {},
   "source": [
    "### topk"
   ]
  },
  {
   "cell_type": "code",
   "execution_count": 21,
   "metadata": {},
   "outputs": [],
   "source": [
    "def run_C2_topk_ablation(train_data, test_data, model=\"text-curie-001\", T=0.05, N=50, k=10):\n",
    "    asktell = bolift.AskTellFewShotTopk(\n",
    "        x_formatter=lambda x: f\"experimental procedure: {x}\",\n",
    "        y_name=\"C2 yield\",\n",
    "        y_formatter=lambda y: f\"{y:.2f}\",\n",
    "        model=model,\n",
    "        selector_k=k,\n",
    "        temperature=T\n",
    "    )\n",
    "    exp_train_data = train_data[:N]\n",
    "    x, y, yhat =  run_ablation_experiment(asktell, exp_train_data, test_data)\n",
    "\n",
    "    data=\"C2\"\n",
    "    model_class=\"topk\"\n",
    "    save_csv(out_csv_file, x, y, yhat, data, model, T, k, N, model_class, asktell.tokens_used)\n",
    "\n",
    "    return y, yhat"
   ]
  },
  {
   "cell_type": "code",
   "execution_count": 22,
   "metadata": {},
   "outputs": [
    {
     "name": "stdout",
     "output_type": "stream",
     "text": [
      "Running C2 topk ablation with T=0.05, k=5, N=1000, model=text-davinci-001  --> done\n"
     ]
    }
   ],
   "source": [
    "\n",
    "T_list = [0.05]\n",
    "k_list = [5]\n",
    "N_list = [1000]\n",
    "models_list = [\"text-davinci-001\"]\n",
    "for T, k, N, model in itertools.product(T_list, k_list, N_list, models_list):\n",
    "  print(f\"Running C2 topk ablation with T={T}, k={k}, N={N}, model={model}\", end=\" \")\n",
    "  y, yhat = run_C2_topk_ablation(train_data, test_data, model=model, T=T, N=N, k=k)\n",
    "  print(\" --> done\")\n"
   ]
  },
  {
   "attachments": {},
   "cell_type": "markdown",
   "metadata": {},
   "source": [
    "### Finetune"
   ]
  },
  {
   "cell_type": "code",
   "execution_count": 108,
   "metadata": {},
   "outputs": [],
   "source": [
    "def run_C2_finetune(train_data, model=\"text-ada-001\", N=50):\n",
    "    asktell = bolift.AskTellFinetuning(\n",
    "        prefix=\"\",\n",
    "        prompt_template=PromptTemplate(\n",
    "            input_variables=[\"x\", \"y\", \"y_name\"],\n",
    "            template=\"Q: What is the {y_name} of {x}?@@@\\nA: {y}###\",\n",
    "        ),\n",
    "        suffix=\"What is the {y_name} of {x}?@@@\\nA:\",\n",
    "        x_formatter=lambda x: f\"experimental procedure: {x}\",\n",
    "        y_name=\"C2 yield\",\n",
    "        y_formatter=lambda y: f\"{y:.2f}\",\n",
    "        model=model,\n",
    "        n_epochs=8,\n",
    "        learning_rate_multiplier=0.05,\n",
    "    )\n",
    "    # Tell one example so the moduel build the prompt\n",
    "    asktell.tell(train_data.iloc[0, 0], train_data.iloc[0, 1])\n",
    "    exp_train_data = train_data.iloc[:N]\n",
    "\n",
    "    prompts=[]\n",
    "    completions=[]\n",
    "    for i in range(len(exp_train_data)):\n",
    "        prompts.append(f\"What is the yield strength of {exp_train_data.iloc[i, 0]}?@@@\\\\nA: \")\n",
    "        completions.append(f\"{float(exp_train_data.iloc[i, 1])}###\")\n",
    "    asktell.prepare_data(prompts, completions, f'./paper/out/data_C2_{N}.dat')\n",
    "    asktell.fine_tune(prompts, completions, out_path='./paper/out', out_file=f'FT_C2_{N}')\n",
    "    print(asktell.get_model_name())\n",
    "\n",
    "def run_C2_FT_ablation(train_data, test_data, model=\"text-ada-001\", T=0.05, N=10, k=0):\n",
    "    with open(f'./paper/out/FT_C2_{N}.dat', 'r') as f:\n",
    "        response = json.load(f)\n",
    "    \n",
    "    asktell = bolift.AskTellFinetuning(\n",
    "        prefix=\"\",\n",
    "        prompt_template=PromptTemplate(\n",
    "            input_variables=[\"x\", \"y\", \"y_name\"],\n",
    "            template=\"Q: What is the {y_name} of {x}?@@@\\nA: {y}###\",\n",
    "        ),\n",
    "        suffix=\"What is the {y_name} of {x}?@@@\\nA:\",\n",
    "        # x_formatter=lambda x: f\"alloy composition: {x}\",\n",
    "        y_name=\"C2 yield\",\n",
    "        y_formatter=lambda y: f\"{y:.2f}\",\n",
    "        model=model,\n",
    "        id=response['id'],\n",
    "        selector_k=0,\n",
    "        n_epochs=8,\n",
    "        learning_rate_multiplier=0.05,\n",
    "    )\n",
    "    asktell.tell(train_data.iloc[0, 0], train_data.iloc[0, 1])\n",
    "    exp_train_data = train_data.iloc[:1]\n",
    "    x, y, yhat =  run_ablation_experiment(asktell, exp_train_data, test_data)\n",
    "\n",
    "    data=\"C2\"\n",
    "    model_class=\"finetune\"\n",
    "    save_csv(out_csv_file, x, y, yhat, data, asktell.get_model_name(), T, k, N, model_class, asktell.tokens_used)\n",
    "\n",
    "    return y, yhat"
   ]
  },
  {
   "cell_type": "code",
   "execution_count": 109,
   "metadata": {},
   "outputs": [
    {
     "name": "stdout",
     "output_type": "stream",
     "text": [
      "Running C2 FT with N=500\n",
      "text-ada-001\n",
      "running.   Fine-tune succeeded                                                                \n",
      "\n",
      "ada:ft-white-research-laboratory-2023-02-28-03-16-06\n",
      " --> done\n"
     ]
    }
   ],
   "source": [
    "N_list=[500]\n",
    "for N in N_list: \n",
    "  print(f\"Running C2 FT with N={N}\")\n",
    "  run_C2_finetune(train_data, model=\"text-ada-001\", N=N)\n",
    "  print(\" --> done\")"
   ]
  },
  {
   "cell_type": "code",
   "execution_count": 110,
   "metadata": {},
   "outputs": [
    {
     "name": "stdout",
     "output_type": "stream",
     "text": [
      "Running C2 finetune ablation with T=0.05, k=0, N=500, model=text-ada-001 text-ada-001\n",
      "ada:ft-white-research-laboratory-2023-02-28-03-16-06\n",
      " --> done\n"
     ]
    }
   ],
   "source": [
    "T_list = [0.05]\n",
    "k_list = [0]\n",
    "N_list = [500]\n",
    "models_list = [\"text-ada-001\"]\n",
    "for T, k, N, model in itertools.product(T_list, k_list, N_list, models_list):\n",
    "  print(f\"Running C2 finetune ablation with T={T}, k={k}, N={N}, model={model}\", end=\" \")\n",
    "  y, yhat = run_C2_FT_ablation(train_data, test_data, model=\"text-ada-001\", T=T, N=N, k=k)\n",
    "  print(\" --> done\")\n"
   ]
  },
  {
   "attachments": {},
   "cell_type": "markdown",
   "metadata": {},
   "source": [
    "## Iupac-solubility"
   ]
  },
  {
   "cell_type": "code",
   "execution_count": 8,
   "metadata": {},
   "outputs": [],
   "source": [
    "import requests\n",
    "data_path = \"paper/data/esol_iupac.csv\"\n",
    "raw_data = pd.read_csv(data_path)\n",
    "\n",
    "def query2IUPAC(text):\n",
    "  try:\n",
    "    '''This function queries the one given molecule name and returns a SMILES string from the record'''\n",
    "    #query the PubChem database\n",
    "    r = requests.get('https://pubchem.ncbi.nlm.nih.gov/rest/pug/compound/smiles/' + text + '/property/IUPACName/JSON')\n",
    "    data = r.json()\n",
    "    smi = data[\"PropertyTable\"][\"Properties\"][0][\"IUPACName\"]\n",
    "    return smi\n",
    "  except:\n",
    "    return None\n",
    "\n",
    "# raw_data[\"IUPAC\"] = raw_data[\"SMILES\"].map(lambda sml: query2IUPAC(sml))\n",
    "raw_data = raw_data[[\"IUPAC\", \"measured log(solubility:mol/L)\"]]\n",
    "raw_data = raw_data.dropna()"
   ]
  },
  {
   "cell_type": "code",
   "execution_count": 9,
   "metadata": {},
   "outputs": [
    {
     "name": "stdout",
     "output_type": "stream",
     "text": [
      "882 705 177\n"
     ]
    }
   ],
   "source": [
    "np.random.seed(0)\n",
    "\n",
    "N = raw_data.shape[0]\n",
    "train = np.random.choice(raw_data.shape[0], int(N * 0.8), replace=False)\n",
    "test = np.setdiff1d(np.arange(raw_data.shape[0]), train)\n",
    "np.random.shuffle(test)\n",
    "\n",
    "train_data = raw_data.iloc[train, :].reset_index(drop=True)\n",
    "test_data = raw_data.iloc[test, :].reset_index(drop=True)\n",
    "print(N, len(train_data), len(test_data))"
   ]
  },
  {
   "attachments": {},
   "cell_type": "markdown",
   "metadata": {},
   "source": [
    "### multi"
   ]
  },
  {
   "cell_type": "code",
   "execution_count": 99,
   "metadata": {},
   "outputs": [],
   "source": [
    "def run_iupac_sol_multi_ablation(train_data, test_data, model=\"text-curie-001\", T=0.05, N=50, k=10):\n",
    "    asktell = bolift.AskTellFewShotMulti(\n",
    "        x_formatter=lambda x: f\"iupac name {x}\",\n",
    "        y_name=\"measured log solubility in mols per litre\",\n",
    "        y_formatter=lambda y: f\"{y:.2f}\",\n",
    "        model=model,\n",
    "        selector_k=k,\n",
    "        temperature=T\n",
    ")\n",
    "    exp_train_data = train_data[:N]\n",
    "    x, y, yhat =  run_ablation_experiment(asktell, exp_train_data, test_data)\n",
    "\n",
    "    data=\"iupac-sol\"\n",
    "    model_class=\"multi\"\n",
    "    save_csv(out_csv_file, x, y, yhat, data, model, T, k, N, model_class, asktell.tokens_used)\n",
    "\n",
    "    return y, yhat"
   ]
  },
  {
   "cell_type": "code",
   "execution_count": 101,
   "metadata": {},
   "outputs": [
    {
     "name": "stdout",
     "output_type": "stream",
     "text": [
      "Running iupac-solv multi ablation with T=0.05, k=5, N=250, model=text-curie-001  --> done\n"
     ]
    }
   ],
   "source": [
    "\n",
    "T_list = [0.05]\n",
    "k_list = [5]\n",
    "N_list = [250]\n",
    "for T, k, N, model in itertools.product(T_list, k_list, N_list, models_list):\n",
    "  print(f\"Running iupac-solv multi ablation with T={T}, k={k}, N={N}, model={model}\", end=\" \")\n",
    "  y, yhat = run_iupac_sol_multi_ablation(train_data, test_data, model=\"text-curie-001\", T=T, N=N, k=k)\n",
    "  print(\" --> done\")"
   ]
  },
  {
   "attachments": {},
   "cell_type": "markdown",
   "metadata": {},
   "source": [
    "### topk"
   ]
  },
  {
   "cell_type": "code",
   "execution_count": null,
   "metadata": {},
   "outputs": [],
   "source": [
    "def run_iupac_sol_topk_ablation(train_data, test_data, model=\"text-curie-001\", T=0.05, k=10):\n",
    "    asktell = bolift.AskTellFewShotTopk(\n",
    "        x_formatter=lambda x: f\"iupac name {x}\",\n",
    "        y_name=\"measured log solubility in mols per litre\",\n",
    "        y_formatter=lambda y: f\"{y:.2f}\",\n",
    "        model=model,\n",
    "        selector_k=k,\n",
    "        temperature=T\n",
    "    )\n",
    "    x, y, yhat =  run_ablation_experiment(asktell, train_data, test_data)\n",
    "\n",
    "    N=len(train_data)\n",
    "    data=\"iupac-sol\"\n",
    "    model_class=\"topk\"\n",
    "    save_csv(out_csv_file, x, y, yhat, data, model, T, k, N, model_class)\n",
    "\n",
    "    return y, yhat"
   ]
  },
  {
   "cell_type": "code",
   "execution_count": null,
   "metadata": {},
   "outputs": [],
   "source": [
    "y, yhat = run_iupac_sol_topk_ablation(train_data, test_data, model=\"text-curie-001\", T=0.05, k=5)"
   ]
  },
  {
   "attachments": {},
   "cell_type": "markdown",
   "metadata": {},
   "source": [
    "### Finetune"
   ]
  },
  {
   "cell_type": "code",
   "execution_count": 10,
   "metadata": {},
   "outputs": [],
   "source": [
    "def run_iupac_sol_finetune(train_data, model=\"text-ada-001\", N=50):\n",
    "    asktell = bolift.AskTellFinetuning(\n",
    "        prefix=\"\",\n",
    "        prompt_template=PromptTemplate(\n",
    "            input_variables=[\"x\", \"y\", \"y_name\"],\n",
    "            template=\"Q: What is the {y_name} of {x}?@@@\\nA: {y}###\",\n",
    "        ),\n",
    "        suffix=\"What is the {y_name} of {x}?@@@\\nA:\",\n",
    "        # x_formatter=lambda x: f\"iupac name {x}\",\n",
    "        y_name=\"measured log solubility in mols per litre\",\n",
    "        y_formatter=lambda y: f\"{y:.2f}\",\n",
    "        model=model,\n",
    "        n_epochs=8,\n",
    "        learning_rate_multiplier=0.02,\n",
    "    )\n",
    "    asktell.tell(train_data.iloc[0, 0], train_data.iloc[0, 1])\n",
    "    exp_train_data = train_data.iloc[:N]\n",
    "\n",
    "    prompts=[]\n",
    "    completions=[]\n",
    "    for i in range(len(train_data[:N])):\n",
    "        prompts.append(f\"What is the measured log solubility in mols per litre of {exp_train_data.iloc[i, 0]}?@@@\\\\nA: \")\n",
    "        completions.append(f\"{float(exp_train_data.iloc[i, 1])}###\")\n",
    "        asktell.prepare_data(prompts, completions, f'./paper/out/data_solv_{N}.dat')\n",
    "    asktell.fine_tune(prompts, completions, out_path='./paper/out', out_file=f'FT_solv_{N}')\n",
    "    print(asktell.get_model_name())\n",
    "\n",
    "def run_iupac_sol_FT_ablation(train_data, test_data, model=\"text-ada-001\", T=0.05, N=50, k=0):\n",
    "    with open(f'./paper/out/FT_solv_{N}.dat', 'r') as f:\n",
    "        response = json.load(f)\n",
    "    \n",
    "    asktell = bolift.AskTellFinetuning(\n",
    "        prefix=\"\",\n",
    "        prompt_template=PromptTemplate(\n",
    "            input_variables=[\"x\", \"y\", \"y_name\"],\n",
    "            template=\"Q: What is the {y_name} of {x}?@@@\\nA: {y}###\",\n",
    "        ),\n",
    "        suffix=\"What is the {y_name} of {x}?@@@\\nA:\",\n",
    "        # x_formatter=lambda x: f\"iupac name {x}\",\n",
    "        y_name=\"measured log solubility in mols per litre\",\n",
    "        y_formatter=lambda y: f\"{y:.2f}\",\n",
    "        model=model,\n",
    "        id=response['id'],\n",
    "        selector_k=0,\n",
    "        n_epochs=8,\n",
    "        learning_rate_multiplier=0.02,\n",
    "    )\n",
    "    asktell.tell(train_data.iloc[0, 0], train_data.iloc[0, 1])\n",
    "    exp_train_data = train_data.iloc[:N]\n",
    "    x, y, yhat =  run_ablation_experiment(asktell, exp_train_data, test_data)\n",
    "\n",
    "    data=\"iupac-sol\"\n",
    "    model_class=\"finetune\"\n",
    "    save_csv(out_csv_file, x, y, yhat, data, asktell.get_model_name(), T, k, N, model_class, asktell.tokens_used)\n",
    "\n",
    "    return y, yhat"
   ]
  },
  {
   "cell_type": "code",
   "execution_count": 11,
   "metadata": {},
   "outputs": [
    {
     "name": "stdout",
     "output_type": "stream",
     "text": [
      "Running iupac-sol FT with N=50\n",
      "running..  Fine-tune succeeded                                                                \n",
      "\n",
      "ada:ft-white-research-laboratory-2023-02-28-19-10-21\n",
      " --> done\n",
      "Running iupac-sol FT with N=100\n",
      "running... Fine-tune succeeded                                     -28-19-20-28                                     \n",
      "\n",
      "ada:ft-white-research-laboratory-2023-02-28-19-20-28\n",
      " --> done\n",
      "Running iupac-sol FT with N=250\n",
      "running... Fine-tune succeeded                                     -28-19-56-24                                     \n",
      "\n",
      "ada:ft-white-research-laboratory-2023-02-28-19-56-24\n",
      " --> done\n",
      "Running iupac-sol FT with N=500\n",
      "running..  Fine-tune succeeded                                                                \n",
      "\n",
      "ada:ft-white-research-laboratory-2023-02-28-20-41-11\n",
      " --> done\n",
      "Running iupac-sol FT with N=700\n",
      "running.   Fine-tune succeeded                                     -28-21-30-29                                     \n",
      "\n",
      "ada:ft-white-research-laboratory-2023-02-28-21-30-29\n",
      " --> done\n"
     ]
    }
   ],
   "source": [
    "N_list=[50,100,250,500,700]\n",
    "for N in N_list:\n",
    "  print(f\"Running iupac-sol FT with N={N}\")\n",
    "  run_iupac_sol_finetune(train_data, model=\"text-ada-001\", N=N)\n",
    "  print(\" --> done\")"
   ]
  },
  {
   "cell_type": "code",
   "execution_count": 14,
   "metadata": {},
   "outputs": [
    {
     "name": "stdout",
     "output_type": "stream",
     "text": [
      "Running iupac-sol finetune ablation with T=0.05, k=0, N=50, model=text-ada-001  --> done\n",
      "Running iupac-sol finetune ablation with T=0.05, k=0, N=100, model=text-ada-001  --> done\n",
      "Running iupac-sol finetune ablation with T=0.05, k=0, N=250, model=text-ada-001  --> done\n",
      "Running iupac-sol finetune ablation with T=0.05, k=0, N=500, model=text-ada-001  --> done\n",
      "Running iupac-sol finetune ablation with T=0.05, k=0, N=700, model=text-ada-001  --> done\n"
     ]
    }
   ],
   "source": [
    "T_list = [0.05]\n",
    "k_list = [0]\n",
    "N_list=[50,100,250,500,700]\n",
    "models_list = [\"text-ada-001\"]\n",
    "for T, k, N, model in itertools.product(T_list, k_list, N_list, models_list):\n",
    "  print(f\"Running iupac-sol finetune ablation with T={T}, k={k}, N={N}, model={model}\", end=\" \")\n",
    "  y, yhat = run_iupac_sol_FT_ablation(train_data, test_data, model=\"text-ada-001\", T=T, N=N, k=k)\n",
    "  print(\" --> done\")\n"
   ]
  },
  {
   "attachments": {},
   "cell_type": "markdown",
   "metadata": {},
   "source": [
    "## Steel alloy"
   ]
  },
  {
   "cell_type": "code",
   "execution_count": 34,
   "metadata": {},
   "outputs": [
    {
     "name": "stdout",
     "output_type": "stream",
     "text": [
      "312 249 63\n"
     ]
    }
   ],
   "source": [
    "np.random.seed(8)\n",
    "\n",
    "data_path = \"paper/data/yield_strength.csv\"\n",
    "raw_data = pd.read_csv(data_path)\n",
    "\n",
    "N = raw_data.shape[0]\n",
    "train = np.random.choice(raw_data.shape[0], int(N * 0.8), replace=False)\n",
    "test = np.setdiff1d(np.arange(raw_data.shape[0]), train)\n",
    "np.random.shuffle(test)\n",
    "\n",
    "train_data = raw_data.iloc[train, :].reset_index(drop=True)\n",
    "test_data = raw_data.iloc[test, :].reset_index(drop=True)\n",
    "print(N, len(train_data), len(test_data))"
   ]
  },
  {
   "attachments": {},
   "cell_type": "markdown",
   "metadata": {},
   "source": [
    "### multi"
   ]
  },
  {
   "cell_type": "code",
   "execution_count": 56,
   "metadata": {},
   "outputs": [],
   "source": [
    "def run_alloy_multi_ablation(train_data, test_data, model=\"text-curie-001\", T=0.05, N=50, k=10):\n",
    "    asktell = bolift.AskTellFewShotMulti(\n",
    "        x_formatter=lambda x: f\"alloy composition of {x}\",\n",
    "        y_name=\"yield strength\",\n",
    "        y_formatter=lambda y: f\"{y:.2f}\",\n",
    "        model=model,\n",
    "        selector_k=k,\n",
    "        temperature=T\n",
    "    )\n",
    "    exp_train_data = train_data[:N]\n",
    "    x, y, yhat =  run_ablation_experiment(asktell, exp_train_data, test_data)\n",
    "\n",
    "    data=\"alloy\"\n",
    "    model_class=\"multi\"\n",
    "    save_csv(out_csv_file, x, y, yhat, data, model, T, k, N, model_class, asktell.tokens_used)\n",
    "\n",
    "    return y, yhat\n"
   ]
  },
  {
   "cell_type": "code",
   "execution_count": 57,
   "metadata": {},
   "outputs": [
    {
     "name": "stdout",
     "output_type": "stream",
     "text": [
      "Running alloy multi ablation with T=0.05, k=1, N=249, model=text-curie-001  --> done\n",
      "Running alloy multi ablation with T=0.05, k=2, N=249, model=text-curie-001  --> done\n",
      "Running alloy multi ablation with T=0.05, k=3, N=249, model=text-curie-001  --> done\n",
      "Running alloy multi ablation with T=0.05, k=4, N=249, model=text-curie-001  --> done\n"
     ]
    }
   ],
   "source": [
    "\n",
    "T_list = [0.05]\n",
    "k_list = [1,2,3,4]\n",
    "N_list = [249]\n",
    "for T, k, N, model in itertools.product(T_list, k_list, N_list, models_list):\n",
    "  print(f\"Running alloy multi ablation with T={T}, k={k}, N={N}, model={model}\", end=\" \")\n",
    "  y, yhat = run_alloy_multi_ablation(train_data, test_data, model=model, T=T, N=N, k=k)\n",
    "  print(\" --> done\")"
   ]
  },
  {
   "attachments": {},
   "cell_type": "markdown",
   "metadata": {},
   "source": [
    "### topk"
   ]
  },
  {
   "cell_type": "code",
   "execution_count": 11,
   "metadata": {},
   "outputs": [],
   "source": [
    "def run_alloy_topk_ablation(train_data, test_data, model=\"text-curie-001\", T=0.05, N=50, k=10):\n",
    "    from openai import PromptTemplate\n",
    "    \n",
    "    asktell = bolift.AskTellFewShotTopk(\n",
    "        x_formatter=lambda x: f\"alloy composition of {x}\",\n",
    "        y_name=\"yield strength\",\n",
    "        y_formatter=lambda y: f\"{y:.2f}\",\n",
    "        model=model,\n",
    "        selector_k=k,\n",
    "        temperature=T\n",
    "    )\n",
    "    exp_train_data = train_data[:N]\n",
    "    x, y, yhat =  run_ablation_experiment(asktell, exp_train_data, test_data)\n",
    "    data=\"alloy\"\n",
    "    model_class=\"topk\"\n",
    "    save_csv(out_csv_file, x, y, yhat, data, model, T, k, N, model_class, asktell.tokens_used)\n",
    "\n",
    "    return y, yhat\n"
   ]
  },
  {
   "cell_type": "code",
   "execution_count": null,
   "metadata": {},
   "outputs": [],
   "source": [
    "T_list = [0.05]\n",
    "k_list = [5]\n",
    "N_list = [50] #[3,4,5,10,25,50,100,200]\n",
    "for T, k, N, model in itertools.product(T_list, k_list, N_list, models_list):\n",
    "  print(f\"Running alloy topk ablation with T={T}, k={k}, N={N}, model={model}\", end=\" \")\n",
    "  y, yhat = run_alloy_topk_ablation(train_data, test_data, model=model, T=T, N=N, k=k)\n",
    "  print(\" --> done\")"
   ]
  },
  {
   "attachments": {},
   "cell_type": "markdown",
   "metadata": {},
   "source": [
    "### Finetune"
   ]
  },
  {
   "cell_type": "code",
   "execution_count": 40,
   "metadata": {},
   "outputs": [],
   "source": [
    "def run_alloy_finetune(train_data, model=\"text-ada-001\", N=50):\n",
    "    asktell = bolift.AskTellFinetuning(\n",
    "        prefix=\"\",\n",
    "        prompt_template=PromptTemplate(\n",
    "            input_variables=[\"x\", \"y\", \"y_name\"],\n",
    "            template=\"Q: What is the {y_name} of {x}?@@@\\nA: {y}###\",\n",
    "        ),\n",
    "        suffix=\"What is the {y_name} of {x}?@@@\\nA:\",\n",
    "        # x_formatter=lambda x: f\"alloy composition: {x}\",\n",
    "        y_name=\"yield strength\",\n",
    "        y_formatter=lambda y: f\"{y:.2f}\",\n",
    "        model=model,\n",
    "        n_epochs=8,\n",
    "        learning_rate_multiplier=0.02,\n",
    "    )\n",
    "    # Tell one example so the moduel build the prompt\n",
    "    asktell.tell(train_data.iloc[0, 0], train_data.iloc[0, 1])\n",
    "    exp_train_data = train_data.iloc[:N]\n",
    "\n",
    "    prompts=[]\n",
    "    completions=[]\n",
    "    for i in range(len(exp_train_data)):\n",
    "        prompts.append(f\"What is the yield strength of {exp_train_data.iloc[i, 0]}?@@@\\\\nA: \")\n",
    "        completions.append(f\"{float(exp_train_data.iloc[i, 1])}###\")\n",
    "    asktell.prepare_data(prompts, completions, f'./paper/out/data_alloy_{N}.dat')\n",
    "    asktell.fine_tune(prompts, completions, out_path='./paper/out', out_file=f'FT_alloy_{N}')\n",
    "    print(asktell.get_model_name())\n",
    "\n",
    "def run_alloy_FT_ablation(train_data, test_data, model=\"text-ada-001\", T=0.05, N=50, k=0):\n",
    "    with open(f'./paper/out/FT_alloy_{N}.dat', 'r') as f:\n",
    "        response = json.load(f)\n",
    "    \n",
    "    asktell = bolift.AskTellFinetuning(\n",
    "        prefix=\"\",\n",
    "        prompt_template=PromptTemplate(\n",
    "            input_variables=[\"x\", \"y\", \"y_name\"],\n",
    "            template=\"Q: What is the {y_name} of {x}?@@@\\nA: {y}###\",\n",
    "        ),\n",
    "        suffix=\"What is the {y_name} of {x}?@@@\\nA:\",\n",
    "        # x_formatter=lambda x: f\"alloy composition: {x}\",\n",
    "        y_name=\"yield strength\",\n",
    "        y_formatter=lambda y: f\"{y:.2f}\",\n",
    "        model=model,\n",
    "        id=response['id'],\n",
    "        selector_k=0,\n",
    "        n_epochs=8,\n",
    "        learning_rate_multiplier=0.02,\n",
    "    )\n",
    "    asktell.tell(train_data.iloc[0, 0], train_data.iloc[0, 1])\n",
    "    exp_train_data = train_data.iloc[:N]\n",
    "    x, y, yhat =  run_ablation_experiment(asktell, exp_train_data, test_data)\n",
    "\n",
    "    data=\"alloy\"\n",
    "    model_class=\"finetune\"\n",
    "    save_csv(out_csv_file, x, y, yhat, data, asktell.get_model_name(), T, k, N, model_class, asktell.tokens_used)\n",
    "\n",
    "    return y, yhat"
   ]
  },
  {
   "cell_type": "code",
   "execution_count": 41,
   "metadata": {},
   "outputs": [
    {
     "name": "stdout",
     "output_type": "stream",
     "text": [
      "Running alloy FT with N=249\n",
      "text-ada-001\n",
      "running.   Fine-tune succeeded                                                                \n",
      "\n",
      "ada:ft-white-research-laboratory-2023-02-27-21-12-15\n",
      " --> done\n"
     ]
    }
   ],
   "source": [
    "N_list=[249]\n",
    "for N in N_list:\n",
    "  print(f\"Running alloy FT with N={N}\")\n",
    "  run_alloy_finetune(train_data, model=\"text-ada-001\", N=N)\n",
    "  print(\" --> done\")"
   ]
  },
  {
   "cell_type": "code",
   "execution_count": 43,
   "metadata": {},
   "outputs": [
    {
     "name": "stdout",
     "output_type": "stream",
     "text": [
      "Running alloy finetune ablation with T=0.05, k=0, N=249, model=text-ada-001 text-ada-001\n",
      "ada:ft-white-research-laboratory-2023-02-27-21-12-15\n",
      " --> done\n"
     ]
    }
   ],
   "source": [
    "T_list = [0.05]\n",
    "k_list = [0]\n",
    "N_list = [249]\n",
    "models_list = [\"text-ada-001\"]\n",
    "for T, k, N, model in itertools.product(T_list, k_list, N_list, models_list):\n",
    "  print(f\"Running alloy finetune ablation with T={T}, k={k}, N={N}, model={model}\", end=\" \")\n",
    "  y, yhat = run_alloy_FT_ablation(train_data, test_data, model=\"text-ada-001\", T=T, N=N, k=k)\n",
    "  print(\" --> done\")\n"
   ]
  },
  {
   "attachments": {},
   "cell_type": "markdown",
   "metadata": {},
   "source": [
    "# BayesOpt experiments"
   ]
  },
  {
   "cell_type": "code",
   "execution_count": null,
   "metadata": {},
   "outputs": [],
   "source": [
    "def run_bayesopt_experiment(asktell, train_data, test_data):\n",
    "    N = 10\n",
    "    pool = test[:50]\n",
    "    pool_str = [raw_data.iloc[i, 0] for i in pool]\n",
    "    point = []\n",
    "    pred_y = []\n",
    "    true_y = []\n",
    "    for i in range(N):\n",
    "        aq = \"expected_improvement\"\n",
    "        if i == N - 1:\n",
    "            aq = \"greedy\"\n",
    "        px, _, py = asktell.ask(pool_str, k=len(pool), aq_fxn=aq)\n",
    "        xc = px[np.argmax(py)]\n",
    "        y = float(raw_data[raw_data[\"composition\"] == xc][\"yield strength\"])\n",
    "        asktell.tell(xc, y)\n",
    "        point.append((xc, y))\n",
    "        pred_y.append(py)\n",
    "\n",
    "def plot(point):\n",
    "    plt.axhline(y=raw_data[\"yield strength\"].min(), color=\"C0\", linestyle=\"--\", label=\"min\")\n",
    "    plt.axhline(\n",
    "        y=raw_data[\"yield strength\"].mean(), color=\"C1\", linestyle=\"--\", label=\"mean\"\n",
    "    )\n",
    "    plt.axhline(y=raw_data[\"yield strength\"].max(), color=\"C2\", linestyle=\"--\", label=\"max\")\n",
    "    # give 5% quantiles\n",
    "    plt.axhline(\n",
    "        y=raw_data[\"yield strength\"].quantile(0.05), color=\"C3\", linestyle=\"--\", label=\"5%\"\n",
    "    )\n",
    "    plt.axhline(\n",
    "        y=raw_data[\"yield strength\"].quantile(0.95), color=\"C4\", linestyle=\"--\", label=\"95%\"\n",
    "    )\n",
    "    maxes = [max([y for x, y in point][:i]) for i in range(1, N + 1)]\n",
    "    # plt.plot(range(10, N + 10), maxes)\n",
    "    plt.plot(range(1, N + 1), [y for x, y in point])\n",
    "    plt.legend()"
   ]
  },
  {
   "cell_type": "code",
   "execution_count": null,
   "metadata": {},
   "outputs": [],
   "source": []
  }
 ],
 "metadata": {
  "kernelspec": {
   "display_name": "Python 3",
   "language": "python",
   "name": "python3"
  },
  "language_info": {
   "codemirror_mode": {
    "name": "ipython",
    "version": 3
   },
   "file_extension": ".py",
   "mimetype": "text/x-python",
   "name": "python",
   "nbconvert_exporter": "python",
   "pygments_lexer": "ipython3",
   "version": "3.11.2"
  },
  "orig_nbformat": 4,
  "vscode": {
   "interpreter": {
    "hash": "e4d71ab05965f6396a5a9de6574d1c01b6468409c861318f86f7fd2a236e9e71"
   }
  }
 },
 "nbformat": 4,
 "nbformat_minor": 2
}
